{
 "cells": [
  {
   "cell_type": "code",
   "execution_count": null,
   "metadata": {
    "slideshow": {
     "slide_type": "skip"
    }
   },
   "outputs": [],
   "source": [
    "import os\n",
    "from cryptography import exceptions\n",
    "from cryptography.hazmat import backends\n",
    "from cryptography.hazmat.primitives.kdf import scrypt\n",
    "from cryptography.hazmat.primitives.asymmetric import rsa\n",
    "from cryptography.hazmat.primitives.asymmetric import padding\n",
    "from cryptography.hazmat.primitives import hashes\n",
    "\n",
    "backend = backends.default_backend()"
   ]
  },
  {
   "cell_type": "markdown",
   "metadata": {
    "slideshow": {
     "slide_type": "slide"
    }
   },
   "source": [
    "# Crypto 101"
   ]
  },
  {
   "cell_type": "markdown",
   "metadata": {
    "slideshow": {
     "slide_type": "slide"
    }
   },
   "source": [
    "## About Me\n",
    "\n",
    "* Douglas Mendizábal\n",
    "* Open Source Developer \n",
    "* I 💖 Python\n",
    "* @douglas@mastodon.social\n",
    "* @elrobotrojo on Twitter"
   ]
  },
  {
   "cell_type": "markdown",
   "metadata": {
    "slideshow": {
     "slide_type": "slide"
    }
   },
   "source": [
    "# THIS IS NOT CRYPTO\n",
    "\n",
    "![Cryptocurrency is not crypto](https://i.imgur.com/qMneYD0.jpg)\n",
    "\n"
   ]
  },
  {
   "cell_type": "markdown",
   "metadata": {
    "slideshow": {
     "slide_type": "fragment"
    }
   },
   "source": [
    "\n",
    "# Crypto == Cryptography\n",
    "### (Don't @ Me)"
   ]
  },
  {
   "cell_type": "markdown",
   "metadata": {
    "slideshow": {
     "slide_type": "slide"
    }
   },
   "source": [
    "# Cryptography (n.)\n",
    "\n",
    "Practice and study of tecniques for secure communication in the presence of third parties called adversaries."
   ]
  },
  {
   "cell_type": "markdown",
   "metadata": {
    "slideshow": {
     "slide_type": "slide"
    }
   },
   "source": [
    "# This Presentation\n",
    "\n",
    "* Talk about common use cases where you might need crypto"
   ]
  },
  {
   "cell_type": "markdown",
   "metadata": {
    "slideshow": {
     "slide_type": "fragment"
    }
   },
   "source": [
    "* Passwords"
   ]
  },
  {
   "cell_type": "markdown",
   "metadata": {
    "slideshow": {
     "slide_type": "fragment"
    }
   },
   "source": [
    "* Protecting Data at Rest"
   ]
  },
  {
   "cell_type": "markdown",
   "metadata": {
    "slideshow": {
     "slide_type": "fragment"
    }
   },
   "source": [
    "* Verifying data integrity"
   ]
  },
  {
   "cell_type": "markdown",
   "metadata": {
    "slideshow": {
     "slide_type": "slide"
    }
   },
   "source": [
    "# Passwords\n",
    "\n",
    "* Passwords Suck\n",
    "* Until we figure out a better system we have to deal with them."
   ]
  },
  {
   "cell_type": "markdown",
   "metadata": {
    "slideshow": {
     "slide_type": "fragment"
    }
   },
   "source": [
    "## How do we code a secure password system?\n",
    "\n",
    "* We need to store passwords\n",
    "* Storing them in plain text is bad, so we need crypto\n",
    "* I heard somewhere you should *hash* them ... ?\n"
   ]
  },
  {
   "cell_type": "markdown",
   "metadata": {
    "slideshow": {
     "slide_type": "slide"
    }
   },
   "source": [
    "# Cryptographic Hashing Functions\n",
    "\n",
    "* One way function that maps arbitrary data to a fixed length bit string (hash or digest)"
   ]
  },
  {
   "cell_type": "markdown",
   "metadata": {
    "slideshow": {
     "slide_type": "fragment"
    }
   },
   "source": [
    "* MD5 - Broken"
   ]
  },
  {
   "cell_type": "markdown",
   "metadata": {
    "slideshow": {
     "slide_type": "fragment"
    }
   },
   "source": [
    "* SHA1 - Also Broken"
   ]
  },
  {
   "cell_type": "markdown",
   "metadata": {
    "slideshow": {
     "slide_type": "fragment"
    }
   },
   "source": [
    "* SHA-2 (SHA-256, SHA-512), SHA-3 - Still good."
   ]
  },
  {
   "cell_type": "markdown",
   "metadata": {
    "slideshow": {
     "slide_type": "fragment"
    }
   },
   "source": [
    "* Can we use this to store passwords?"
   ]
  },
  {
   "cell_type": "markdown",
   "metadata": {
    "slideshow": {
     "slide_type": "fragment"
    }
   },
   "source": [
    "* Nope, Hashing is way too fast"
   ]
  },
  {
   "cell_type": "code",
   "execution_count": null,
   "metadata": {
    "slideshow": {
     "slide_type": "skip"
    }
   },
   "outputs": [],
   "source": [
    "# This was supposed to be a demo of how to crack SHA-256 hashes,\n",
    "# but I couldn't get the cracker in the next cell to work :(\n",
    "\n",
    "import hashlib\n",
    "import random\n",
    "\n",
    "with open('/usr/share/dict/words') as f:\n",
    "    words = f.read().splitlines()\n",
    "\n",
    "passwords = list()\n",
    "    \n",
    "for i in range(500):\n",
    "    pw = random.choice(words) + str(i)\n",
    "    digest = hashlib.sha256(pw.encode('UTF-8')).hexdigest()\n",
    "    passwords.append(digest)\n",
    "    \n",
    "print(passwords[0])\n",
    "\n",
    "with open('passwords.txt', 'w') as f:\n",
    "    f.write('\\n'.join(words))"
   ]
  },
  {
   "cell_type": "code",
   "execution_count": null,
   "metadata": {
    "slideshow": {
     "slide_type": "skip"
    }
   },
   "outputs": [],
   "source": [
    "for word in words:\n",
    "    for pw in passwords:\n",
    "        for x in range(500):\n",
    "            guess = word + str(x)\n",
    "            digest = hashlib.sha256(guess.encode('UTF-8')).hexdigest()\n",
    "            if digest == pw:\n",
    "                print(\"Found password {} for hash {}.\".format(guess, pw))\n",
    "                break"
   ]
  },
  {
   "cell_type": "markdown",
   "metadata": {
    "slideshow": {
     "slide_type": "slide"
    }
   },
   "source": [
    "# Key Derivation Functions\n",
    "\n",
    "* Derives one or more secrets (keys) from another secret\n",
    "* More entropy from a low entropy key (e.g. Password ➜ Encryption Key)\n",
    "* Multiple keys from one key"
   ]
  },
  {
   "cell_type": "markdown",
   "metadata": {
    "slideshow": {
     "slide_type": "slide"
    }
   },
   "source": [
    "## Bcrypt\n",
    "\n",
    "* Purposely designed to be slow\n",
    "* Can be tuned to do more work - at least 12 rounds"
   ]
  },
  {
   "cell_type": "code",
   "execution_count": null,
   "metadata": {},
   "outputs": [],
   "source": [
    "import bcrypt\n",
    "\n",
    "password = b'Some secret pa$$w0rd'\n",
    "hashed = bcrypt.hashpw(password, bcrypt.gensalt())\n",
    "\n",
    "if bcrypt.checkpw(password, hashed):\n",
    "    print('Password matches!')\n",
    "else:\n",
    "    print('Password does not match.')\n",
    "    \n",
    "print(hashed)"
   ]
  },
  {
   "cell_type": "markdown",
   "metadata": {
    "slideshow": {
     "slide_type": "slide"
    }
   },
   "source": [
    "## Scrypt\n",
    "\n",
    "* Like Bcrypt, it was designed to be slow\n",
    "* Also has a tunable memory requirement"
   ]
  },
  {
   "cell_type": "code",
   "execution_count": null,
   "metadata": {},
   "outputs": [],
   "source": [
    "\n",
    "salt = os.urandom(16)\n",
    "\n",
    "kdf = scrypt.Scrypt(\n",
    "    salt=salt,\n",
    "    length=32,\n",
    "    n=2**14,\n",
    "    r=8,\n",
    "    p=1,\n",
    "    backend=backend\n",
    ")\n",
    "\n",
    "key = kdf.derive(b'Some secret pa$$w0rd')\n",
    "\n",
    "print(key)"
   ]
  },
  {
   "cell_type": "code",
   "execution_count": null,
   "metadata": {
    "slideshow": {
     "slide_type": "slide"
    }
   },
   "outputs": [],
   "source": [
    "kdf = scrypt.Scrypt(\n",
    "    salt=salt,\n",
    "    length=32,\n",
    "    n=2**14,\n",
    "    r=2**12,\n",
    "    p=1,\n",
    "    backend=backend\n",
    ")\n",
    "\n",
    "try:\n",
    "    kdf.verify(b'Some secret pa$$w0r', key)\n",
    "    print('Password matches!')\n",
    "except exceptions.InvalidKey:\n",
    "    print('Password does not match.')    "
   ]
  },
  {
   "cell_type": "markdown",
   "metadata": {
    "slideshow": {
     "slide_type": "slide"
    }
   },
   "source": [
    "# About Randomness\n",
    "\n",
    "* Always use `os.urandom`"
   ]
  },
  {
   "cell_type": "markdown",
   "metadata": {
    "slideshow": {
     "slide_type": "slide"
    }
   },
   "source": [
    "# Protecting Data at Rest"
   ]
  },
  {
   "cell_type": "markdown",
   "metadata": {
    "slideshow": {
     "slide_type": "slide"
    }
   },
   "source": [
    "# Hashing\n",
    "\n",
    "* The best way to protect data is to not store it at all\n",
    "* Useful if you just need to verify integrity, but don't need to store the actual data"
   ]
  },
  {
   "cell_type": "markdown",
   "metadata": {
    "slideshow": {
     "slide_type": "slide"
    }
   },
   "source": [
    "# Symmetric Encryption\n",
    "\n",
    "* Uses a single key for encryption and decryption\n",
    "* Useful when you need to protect data that is not exposed to outside systems"
   ]
  },
  {
   "cell_type": "code",
   "execution_count": null,
   "metadata": {},
   "outputs": [],
   "source": [
    "from cryptography import fernet\n",
    "\n",
    "key = fernet.Fernet.generate_key()\n",
    "print(key)\n",
    "\n",
    "f = fernet.Fernet(key)\n",
    "\n",
    "ciphertext = f.encrypt(b'Data to be encrypted')\n",
    "print(ciphertext)\n",
    "\n",
    "secret = f.decrypt(ciphertext)\n",
    "print(secret)"
   ]
  },
  {
   "cell_type": "markdown",
   "metadata": {
    "slideshow": {
     "slide_type": "slide"
    }
   },
   "source": [
    "# Asymmetric Encryption\n",
    "\n",
    "* Uses multiple keys:  A public key you can share and a private key that must be kept secret\n",
    "* Useful when you have to transfer data across trust boundaries"
   ]
  },
  {
   "cell_type": "code",
   "execution_count": null,
   "metadata": {},
   "outputs": [],
   "source": [
    "private_key = rsa.generate_private_key(\n",
    "    public_exponent=65537,\n",
    "    key_size=4096,\n",
    "    backend=backend\n",
    ")\n",
    "\n",
    "message = b'Data to be encrypted'\n",
    "\n",
    "public_key = private_key.public_key()\n",
    "ciphertext = public_key.encrypt(\n",
    "    message,\n",
    "    padding.OAEP(\n",
    "        mgf=padding.MGF1(algorithm=hashes.SHA256()),\n",
    "        algorithm=hashes.SHA256(),\n",
    "        label=None\n",
    "    )\n",
    ")\n",
    "\n",
    "print(ciphertext)"
   ]
  },
  {
   "cell_type": "code",
   "execution_count": null,
   "metadata": {
    "slideshow": {
     "slide_type": "slide"
    }
   },
   "outputs": [],
   "source": [
    "plaintext = private_key.decrypt(\n",
    "    ciphertext,\n",
    "    padding.OAEP(\n",
    "        mgf=padding.MGF1(algorithm=hashes.SHA256()),\n",
    "        algorithm=hashes.SHA256(),\n",
    "        label=None\n",
    "    )\n",
    ")\n",
    "\n",
    "if plaintext == message:\n",
    "    print('Message data matches!')\n",
    "else:\n",
    "    print('Message data does not match.')"
   ]
  },
  {
   "cell_type": "markdown",
   "metadata": {
    "slideshow": {
     "slide_type": "slide"
    }
   },
   "source": [
    "# Data Integrity"
   ]
  },
  {
   "cell_type": "markdown",
   "metadata": {
    "slideshow": {
     "slide_type": "slide"
    }
   },
   "source": [
    "# Signing and Verification\n",
    "\n",
    "* Signature algorithms can be built using other crypto primitives, usually a hash function\n",
    "* They use asymmetric encription since signature usually need to be shared\n"
   ]
  },
  {
   "cell_type": "code",
   "execution_count": null,
   "metadata": {},
   "outputs": [],
   "source": [
    "message = b'A message that needs to be signed'\n",
    "signature = private_key.sign(\n",
    "    message,\n",
    "    padding.PSS(\n",
    "        mgf=padding.MGF1(hashes.SHA256()),\n",
    "        salt_length=padding.PSS.MAX_LENGTH\n",
    "    ),\n",
    "    hashes.SHA256()\n",
    ")\n",
    "print(signature)"
   ]
  },
  {
   "cell_type": "code",
   "execution_count": null,
   "metadata": {
    "slideshow": {
     "slide_type": "slide"
    }
   },
   "outputs": [],
   "source": [
    "try:\n",
    "    public_key.verify(\n",
    "        signature,\n",
    "        message,\n",
    "        padding.PSS(\n",
    "            mgf=padding.MGF1(hashes.SHA256()),\n",
    "            salt_length=padding.PSS.MAX_LENGTH\n",
    "        ),\n",
    "        hashes.SHA256()\n",
    "    )\n",
    "    print(\"Signature is valid!\")\n",
    "except exceptions.InvalidSignature:\n",
    "    print(\"Signature does not validate.\")\n"
   ]
  },
  {
   "cell_type": "markdown",
   "metadata": {
    "slideshow": {
     "slide_type": "slide"
    }
   },
   "source": [
    "# Questions?"
   ]
  }
 ],
 "metadata": {
  "celltoolbar": "Slideshow",
  "kernelspec": {
   "display_name": "Python 3",
   "language": "python",
   "name": "python3"
  },
  "language_info": {
   "codemirror_mode": {
    "name": "ipython",
    "version": 3
   },
   "file_extension": ".py",
   "mimetype": "text/x-python",
   "name": "python",
   "nbconvert_exporter": "python",
   "pygments_lexer": "ipython3",
   "version": "3.7.3"
  }
 },
 "nbformat": 4,
 "nbformat_minor": 2
}
